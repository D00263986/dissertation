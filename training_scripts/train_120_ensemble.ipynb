{
 "cells": [
  {
   "cell_type": "code",
   "execution_count": 1,
   "id": "4f897645-3f8e-471a-a58f-11b6534a3396",
   "metadata": {},
   "outputs": [],
   "source": [
    "import os\n",
    "import tensorflow as tf\n",
    "from tensorflow.keras.applications import VGG16, ResNet50, InceptionV3, DenseNet121, Xception, MobileNetV2, EfficientNetB0, NASNetMobile, InceptionResNetV2, VGG19\n",
    "from tensorflow.keras.models import Model\n",
    "from tensorflow.keras.layers import Dense, Flatten, Average\n",
    "from tensorflow.keras.optimizers import Adam\n",
    "from tensorflow.keras.preprocessing.image import ImageDataGenerator\n",
    "from tensorflow.keras.callbacks import EarlyStopping\n",
    "import numpy as np\n",
    "import matplotlib.pyplot as plt\n",
    "import pandas as pd\n",
    "import json\n",
    "\n",
    "# Global variables\n",
    "max_images_per_breed = 100\n",
    "total_epochs = 2  \n",
    "num_of_threads = 32\n",
    "batch_size = 64\n",
    "\n",
    "# Set the number of threads for TensorFlow\n",
    "os.environ[\"OMP_NUM_THREADS\"] = str(num_of_threads)\n",
    "os.environ[\"TF_NUM_INTRAOP_THREADS\"] = str(num_of_threads)\n",
    "os.environ[\"TF_NUM_INTEROP_THREADS\"] = str(num_of_threads)\n",
    "\n",
    "# Enable XLA for possible speed improvements\n",
    "tf.config.optimizer.set_jit(True)  # Enable XLA (Accelerated Linear Algebra)\n",
    "\n",
    "# Set directories\n",
    "base_dir = os.getcwd()\n",
    "thesis_dir = os.path.abspath(os.path.join(base_dir, \"..\"))\n",
    "models_dir = os.path.join(thesis_dir, 'models')\n",
    "class_indices_path = os.path.join(thesis_dir, 'class_indices.json')\n",
    "train_dir = os.path.join(thesis_dir, 'images', 'train')\n",
    "val_dir = os.path.join(thesis_dir, 'images', 'val')\n",
    "\n",
    "def create_model(model_type, num_classes):\n",
    "    if model_type == 'vgg16':\n",
    "        base_model = VGG16(weights='imagenet', include_top=False, input_shape=(224, 224, 3))\n",
    "    elif model_type == 'resnet50':\n",
    "        base_model = ResNet50(weights='imagenet', include_top=False, input_shape=(224, 224, 3))\n",
    "    elif model_type == 'inceptionv3':\n",
    "        base_model = InceptionV3(weights='imagenet', include_top=False, input_shape=(224, 224, 3))\n",
    "    elif model_type == 'densenet121':\n",
    "        base_model = DenseNet121(weights='imagenet', include_top=False, input_shape=(224, 224, 3))\n",
    "    elif model_type == 'xception':\n",
    "        base_model = Xception(weights='imagenet', include_top=False, input_shape=(224, 224, 3))\n",
    "    elif model_type == 'mobilenetv2':\n",
    "        base_model = MobileNetV2(weights='imagenet', include_top=False, input_shape=(224, 224, 3))\n",
    "    elif model_type == 'efficientnetb0':\n",
    "        base_model = EfficientNetB0(weights='imagenet', include_top=False, input_shape=(224, 224, 3))\n",
    "    elif model_type == 'nasnetmobile':\n",
    "        base_model = NASNetMobile(weights='imagenet', include_top=False, input_shape=(224, 224, 3))\n",
    "    elif model_type == 'inceptionresnetv2':\n",
    "        base_model = InceptionResNetV2(weights='imagenet', include_top=False, input_shape=(224, 224, 3))\n",
    "    elif model_type == 'vgg19':\n",
    "        base_model = VGG19(weights='imagenet', include_top=False, input_shape=(224, 224, 3))\n",
    "    else:\n",
    "        raise ValueError(f\"Unknown model type: {model_type}\")\n",
    "    \n",
    "    # Freeze base model layers\n",
    "    for layer in base_model.layers:\n",
    "        layer.trainable = False\n",
    "\n",
    "    x = Flatten()(base_model.output)\n",
    "    output = Dense(num_classes, activation='softmax')(x)\n",
    "    model = Model(inputs=base_model.input, outputs=output)\n",
    "    \n",
    "    return model\n",
    "\n",
    "def load_image_paths_and_labels(directory, max_images_per_breed):\n",
    "    image_paths = []\n",
    "    labels = []\n",
    "    for breed in os.listdir(directory):\n",
    "        breed_path = os.path.join(directory, breed)\n",
    "        if os.path.isdir(breed_path):\n",
    "            breed_images = os.listdir(breed_path)[:max_images_per_breed]\n",
    "            for image_name in breed_images:\n",
    "                image_paths.append(os.path.join(breed_path, image_name))\n",
    "                labels.append(breed)\n",
    "    return image_paths, labels\n",
    "\n",
    "def train(model_types=['vgg16', 'resnet50', 'inceptionv3']):\n",
    "    if not os.path.exists(train_dir):\n",
    "        raise FileNotFoundError(f\"Training directory not found: {train_dir}\")\n",
    "    if not os.path.exists(val_dir):\n",
    "        raise FileNotFoundError(f\"Validation directory not found: {val_dir}\")\n",
    "    \n",
    "    train_image_paths, train_labels = load_image_paths_and_labels(train_dir, max_images_per_breed)\n",
    "    val_image_paths, val_labels = load_image_paths_and_labels(val_dir, max_images_per_breed)\n",
    "    \n",
    "    train_df = pd.DataFrame({'filename': train_image_paths, 'class': train_labels})\n",
    "    val_df = pd.DataFrame({'filename': val_image_paths, 'class': val_labels})\n",
    "    \n",
    "    train_datagen = ImageDataGenerator(\n",
    "        rescale=1./255,\n",
    "        rotation_range=40,\n",
    "        width_shift_range=0.2,\n",
    "        height_shift_range=0.2,\n",
    "        shear_range=0.2,\n",
    "        zoom_range=0.2,\n",
    "        horizontal_flip=True,\n",
    "        fill_mode='nearest'\n",
    "    )\n",
    "    \n",
    "    val_datagen = ImageDataGenerator(rescale=1./255)\n",
    "    \n",
    "    train_generator = train_datagen.flow_from_dataframe(\n",
    "        train_df, x_col='filename', y_col='class', target_size=(224, 224), class_mode='categorical', batch_size=batch_size)\n",
    "\n",
    "    val_generator = val_datagen.flow_from_dataframe(\n",
    "        val_df, x_col='filename', y_col='class', target_size=(224, 224), class_mode='categorical', batch_size=batch_size)\n",
    "\n",
    "    num_classes = len(train_generator.class_indices)\n",
    "    \n",
    "    with open(class_indices_path, 'w') as f:\n",
    "        json.dump(train_generator.class_indices, f)\n",
    "    \n",
    "    models = []\n",
    "    for model_type in model_types:\n",
    "        print(f\"Creating and training new model: {model_type}\")\n",
    "        model = create_model(model_type, num_classes)\n",
    "        model.compile(optimizer=Adam(learning_rate=1e-4), loss='categorical_crossentropy', metrics=['accuracy'])\n",
    "        early_stopping = EarlyStopping(monitor='val_loss', patience=1, restore_best_weights=True)\n",
    "        history = model.fit(\n",
    "            train_generator,\n",
    "            validation_data=val_generator,\n",
    "            epochs=total_epochs,\n",
    "            callbacks=[early_stopping]\n",
    "        )\n",
    "        \n",
    "        # Save the trained model\n",
    "        model_file = os.path.join(models_dir, f'{model_type}.h5')\n",
    "        model.save(model_file, save_format='h5')\n",
    "        print(f\"Model saved to: {model_file}\")\n",
    "\n",
    "        models.append(model)\n",
    "    \n",
    "    # Create an ensemble model\n",
    "    inputs = tf.keras.Input(shape=(224, 224, 3))\n",
    "    outputs = [model(inputs) for model in models]\n",
    "    avg_output = Average()(outputs)\n",
    "    ensemble_model = Model(inputs=inputs, outputs=avg_output)\n",
    "    ensemble_model.compile(optimizer=Adam(learning_rate=1e-4), loss='categorical_crossentropy', metrics=['accuracy'])\n",
    "\n",
    "    early_stopping = EarlyStopping(monitor='val_loss', patience=1, restore_best_weights=True)\n",
    "    \n",
    "    # Train the ensemble model\n",
    "    history = ensemble_model.fit(\n",
    "        train_generator,\n",
    "        validation_data=val_generator,\n",
    "        epochs=total_epochs,\n",
    "        callbacks=[early_stopping]\n",
    "    )\n",
    "    \n",
    "    # Save the ensemble model with model names\n",
    "    ensemble_model_filename = os.path.join(models_dir, '_'.join(model_types) + '_ensemble.h5')\n",
    "    ensemble_model.save(ensemble_model_filename, save_format='h5')\n",
    "    print(f\"Ensemble model saved to: {ensemble_model_filename}\")\n",
    "    \n",
    "    # Plot training and validation accuracy\n",
    "    acc = history.history['accuracy']\n",
    "    val_acc = history.history['val_accuracy']\n",
    "    loss = history.history['loss']\n",
    "    val_loss = history.history['val_loss']\n",
    "\n",
    "    epochs_range = range(len(acc))\n",
    "    \n",
    "    plt.figure(figsize=(8, 6))\n",
    "    plt.plot(epochs_range, acc, label='Training Accuracy')\n",
    "    plt.plot(epochs_range, val_acc, label='Validation Accuracy')\n",
    "    plt.legend(loc='lower right')\n",
    "    plt.title('Training and Validation Accuracy')\n",
    "    plt.show()\n",
    "    \n",
    "    plt.figure(figsize=(8, 6))\n",
    "    plt.plot(epochs_range, loss, label='Training Loss')\n",
    "    plt.plot(epochs_range, val_loss, label='Validation Loss')\n",
    "    plt.legend(loc='upper right')\n",
    "    plt.title('Training and Validation Loss')\n",
    "    plt.show()\n"
   ]
  },
  {
   "cell_type": "code",
   "execution_count": 2,
   "id": "4f947e76-98a0-4f0a-bbcd-2158aa977144",
   "metadata": {},
   "outputs": [
    {
     "name": "stdout",
     "output_type": "stream",
     "text": [
      "Found 7300 validated image filenames belonging to 73 classes.\n",
      "Found 2606 validated image filenames belonging to 73 classes.\n",
      "Creating and training new model: nasnetmobile\n",
      "Epoch 1/2\n"
     ]
    },
    {
     "name": "stderr",
     "output_type": "stream",
     "text": [
      "C:\\Users\\josej\\anaconda3\\Lib\\site-packages\\keras\\src\\trainers\\data_adapters\\py_dataset_adapter.py:122: UserWarning: Your `PyDataset` class should call `super().__init__(**kwargs)` in its constructor. `**kwargs` can include `workers`, `use_multiprocessing`, `max_queue_size`. Do not pass these arguments to `fit()`, as they will be ignored.\n",
      "  self._warn_if_super_not_called()\n"
     ]
    },
    {
     "name": "stdout",
     "output_type": "stream",
     "text": [
      "\u001b[1m115/115\u001b[0m \u001b[32m━━━━━━━━━━━━━━━━━━━━\u001b[0m\u001b[37m\u001b[0m \u001b[1m174s\u001b[0m 1s/step - accuracy: 0.5249 - loss: 2.1748 - val_accuracy: 0.8910 - val_loss: 0.3766\n",
      "Epoch 2/2\n",
      "\u001b[1m115/115\u001b[0m \u001b[32m━━━━━━━━━━━━━━━━━━━━\u001b[0m\u001b[37m\u001b[0m \u001b[1m149s\u001b[0m 1s/step - accuracy: 0.7946 - loss: 0.8008 - val_accuracy: 0.8998 - val_loss: 0.3790\n"
     ]
    },
    {
     "name": "stderr",
     "output_type": "stream",
     "text": [
      "WARNING:absl:The `save_format` argument is deprecated in Keras 3. We recommend removing this argument as it can be inferred from the file path. Received: save_format=h5\n",
      "WARNING:absl:You are saving your model as an HDF5 file via `model.save()` or `keras.saving.save_model(model)`. This file format is considered legacy. We recommend using instead the native Keras format, e.g. `model.save('my_model.keras')` or `keras.saving.save_model(model, 'my_model.keras')`. \n"
     ]
    },
    {
     "name": "stdout",
     "output_type": "stream",
     "text": [
      "Model saved to: C:\\Users\\josej\\Thesis\\models\\nasnetmobile.h5\n",
      "Creating and training new model: inceptionv3\n",
      "Epoch 1/2\n",
      "\u001b[1m115/115\u001b[0m \u001b[32m━━━━━━━━━━━━━━━━━━━━\u001b[0m\u001b[37m\u001b[0m \u001b[1m221s\u001b[0m 2s/step - accuracy: 0.4692 - loss: 2.5227 - val_accuracy: 0.8557 - val_loss: 0.5485\n",
      "Epoch 2/2\n",
      "\u001b[1m115/115\u001b[0m \u001b[32m━━━━━━━━━━━━━━━━━━━━\u001b[0m\u001b[37m\u001b[0m \u001b[1m215s\u001b[0m 2s/step - accuracy: 0.7587 - loss: 1.0078 - val_accuracy: 0.8711 - val_loss: 0.4894\n"
     ]
    },
    {
     "name": "stderr",
     "output_type": "stream",
     "text": [
      "WARNING:absl:The `save_format` argument is deprecated in Keras 3. We recommend removing this argument as it can be inferred from the file path. Received: save_format=h5\n",
      "WARNING:absl:You are saving your model as an HDF5 file via `model.save()` or `keras.saving.save_model(model)`. This file format is considered legacy. We recommend using instead the native Keras format, e.g. `model.save('my_model.keras')` or `keras.saving.save_model(model, 'my_model.keras')`. \n"
     ]
    },
    {
     "name": "stdout",
     "output_type": "stream",
     "text": [
      "Model saved to: C:\\Users\\josej\\Thesis\\models\\inceptionv3.h5\n",
      "Creating and training new model: xception\n",
      "Epoch 1/2\n",
      "\u001b[1m115/115\u001b[0m \u001b[32m━━━━━━━━━━━━━━━━━━━━\u001b[0m\u001b[37m\u001b[0m \u001b[1m378s\u001b[0m 3s/step - accuracy: 0.5503 - loss: 1.9265 - val_accuracy: 0.8603 - val_loss: 0.5121\n",
      "Epoch 2/2\n",
      "\u001b[1m115/115\u001b[0m \u001b[32m━━━━━━━━━━━━━━━━━━━━\u001b[0m\u001b[37m\u001b[0m \u001b[1m372s\u001b[0m 3s/step - accuracy: 0.7843 - loss: 0.8435 - val_accuracy: 0.8584 - val_loss: 0.5840\n"
     ]
    },
    {
     "name": "stderr",
     "output_type": "stream",
     "text": [
      "WARNING:absl:The `save_format` argument is deprecated in Keras 3. We recommend removing this argument as it can be inferred from the file path. Received: save_format=h5\n",
      "WARNING:absl:You are saving your model as an HDF5 file via `model.save()` or `keras.saving.save_model(model)`. This file format is considered legacy. We recommend using instead the native Keras format, e.g. `model.save('my_model.keras')` or `keras.saving.save_model(model, 'my_model.keras')`. \n"
     ]
    },
    {
     "name": "stdout",
     "output_type": "stream",
     "text": [
      "Model saved to: C:\\Users\\josej\\Thesis\\models\\xception.h5\n",
      "Epoch 1/2\n",
      "\u001b[1m115/115\u001b[0m \u001b[32m━━━━━━━━━━━━━━━━━━━━\u001b[0m\u001b[37m\u001b[0m \u001b[1m609s\u001b[0m 5s/step - accuracy: 0.8372 - loss: 0.0000e+00 - val_accuracy: 0.9252 - val_loss: 0.0000e+00\n",
      "Epoch 2/2\n",
      "\u001b[1m115/115\u001b[0m \u001b[32m━━━━━━━━━━━━━━━━━━━━\u001b[0m\u001b[37m\u001b[0m \u001b[1m575s\u001b[0m 5s/step - accuracy: 0.8512 - loss: 0.0000e+00 - val_accuracy: 0.9175 - val_loss: 0.0000e+00\n"
     ]
    },
    {
     "name": "stderr",
     "output_type": "stream",
     "text": [
      "WARNING:absl:The `save_format` argument is deprecated in Keras 3. We recommend removing this argument as it can be inferred from the file path. Received: save_format=h5\n",
      "WARNING:absl:You are saving your model as an HDF5 file via `model.save()` or `keras.saving.save_model(model)`. This file format is considered legacy. We recommend using instead the native Keras format, e.g. `model.save('my_model.keras')` or `keras.saving.save_model(model, 'my_model.keras')`. \n"
     ]
    },
    {
     "name": "stdout",
     "output_type": "stream",
     "text": [
      "Ensemble model saved to: C:\\Users\\josej\\Thesis\\models\\nasnetmobile_inceptionv3_xception_ensemble.h5\n"
     ]
    },
    {
     "data": {
      "image/png": "[encoded data removed]",
      "text/plain": [
       "<Figure size 800x600 with 1 Axes>"
      ]
     },
     "metadata": {},
     "output_type": "display_data"
    },
    {
     "data": {
      "image/png": "[encoded data removed]",
      "text/plain": [
       "<Figure size 800x600 with 1 Axes>"
      ]
     },
     "metadata": {},
     "output_type": "display_data"
    },
    {
     "data": {
      "text/plain": [
       "\"\\ntrain(['mobilenetv2', 'densenet121', 'inceptionv3'])\\ntrain(['xception', 'densenet121', 'nasnetmobile'])\\ntrain(['inceptionv3', 'mobilenetv2', 'xception'])\\ntrain(['densenet121', 'nasnetmobile', 'mobilenetv2'])\\ntrain(['inceptionv3', 'densenet121', 'xception'])\\ntrain(['mobilenetv2', 'xception', 'nasnetmobile'])\\ntrain(['nasnetmobile', 'densenet121', 'inceptionv3'])\\ntrain(['xception', 'mobilenetv2', 'densenet121'])\\ntrain(['nasnetmobile', 'mobilenetv2', 'inceptionv3'])\\n\""
      ]
     },
     "execution_count": 2,
     "metadata": {},
     "output_type": "execute_result"
    }
   ],
   "source": [
    "train(['nasnetmobile', 'inceptionv3', 'xception'])\n",
    "\n",
    "'''\n",
    "train(['mobilenetv2', 'densenet121', 'inceptionv3'])\n",
    "train(['xception', 'densenet121', 'nasnetmobile'])\n",
    "train(['inceptionv3', 'mobilenetv2', 'xception'])\n",
    "train(['densenet121', 'nasnetmobile', 'mobilenetv2'])\n",
    "train(['inceptionv3', 'densenet121', 'xception'])\n",
    "train(['mobilenetv2', 'xception', 'nasnetmobile'])\n",
    "train(['nasnetmobile', 'densenet121', 'inceptionv3'])\n",
    "train(['xception', 'mobilenetv2', 'densenet121'])\n",
    "train(['nasnetmobile', 'mobilenetv2', 'inceptionv3'])\n",
    "'''\n"
   ]
  },
  {
   "cell_type": "code",
   "execution_count": null,
   "id": "faacf8bd-9eb2-4815-ab5e-da314c745e08",
   "metadata": {},
   "outputs": [],
   "source": []
  },
  {
   "cell_type": "code",
   "execution_count": null,
   "id": "5ae11ad6-ffdb-46bb-ab6a-462204e3bf51",
   "metadata": {},
   "outputs": [],
   "source": []
  },
  {
   "cell_type": "code",
   "execution_count": null,
   "id": "a759bc78-aa15-43c8-a916-0f58f70bfbd2",
   "metadata": {},
   "outputs": [],
   "source": []
  },
  {
   "cell_type": "code",
   "execution_count": null,
   "id": "ddd733be-56c5-42ed-a4bd-a824ce3f42f1",
   "metadata": {},
   "outputs": [],
   "source": []
  },
  {
   "cell_type": "code",
   "execution_count": null,
   "id": "946e8f65-d61e-42c2-b7c6-d6ac65f58b84",
   "metadata": {},
   "outputs": [],
   "source": []
  },
  {
   "cell_type": "code",
   "execution_count": null,
   "id": "5e78c7cd-9a22-4978-b294-6623f4e96365",
   "metadata": {},
   "outputs": [],
   "source": []
  },
  {
   "cell_type": "code",
   "execution_count": null,
   "id": "48c87680-5501-4ae9-b13e-e47f0b479c18",
   "metadata": {},
   "outputs": [],
   "source": []
  },
  {
   "cell_type": "code",
   "execution_count": null,
   "id": "3bf94a06-ee52-49f9-8cce-cad9f7946ec9",
   "metadata": {},
   "outputs": [],
   "source": []
  },
  {
   "cell_type": "code",
   "execution_count": null,
   "id": "46debbf8-be19-4965-a583-13b1de0df3e8",
   "metadata": {},
   "outputs": [],
   "source": []
  },
  {
   "cell_type": "code",
   "execution_count": null,
   "id": "25ef3614-f0b1-4f85-bc4c-0970d8054ace",
   "metadata": {},
   "outputs": [],
   "source": []
  },
  {
   "cell_type": "code",
   "execution_count": null,
   "id": "ec745534-988d-46b9-a6dc-bc87ef5f722d",
   "metadata": {},
   "outputs": [],
   "source": []
  },
  {
   "cell_type": "code",
   "execution_count": null,
   "id": "d9499c83-985a-4a8b-9041-b78850932a47",
   "metadata": {},
   "outputs": [],
   "source": []
  },
  {
   "cell_type": "code",
   "execution_count": null,
   "id": "b554c8fd-0232-4d06-b320-6e7cda0fdd38",
   "metadata": {},
   "outputs": [],
   "source": []
  },
  {
   "cell_type": "code",
   "execution_count": null,
   "id": "6272d0ba-00a9-4386-b5d6-48c7e688ac47",
   "metadata": {},
   "outputs": [],
   "source": []
  }
 ],
 "metadata": {
  "kernelspec": {
   "display_name": "Python 3 (ipykernel)",
   "language": "python",
   "name": "python3"
  },
  "language_info": {
   "codemirror_mode": {
    "name": "ipython",
    "version": 3
   },
   "file_extension": ".py",
   "mimetype": "text/x-python",
   "name": "python",
   "nbconvert_exporter": "python",
   "pygments_lexer": "ipython3",
   "version": "3.12.4"
  }
 },
 "nbformat": 4,
 "nbformat_minor": 5
}
